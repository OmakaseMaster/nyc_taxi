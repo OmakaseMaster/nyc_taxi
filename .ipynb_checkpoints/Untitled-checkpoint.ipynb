{
 "cells": [
  {
   "cell_type": "code",
   "execution_count": 1,
   "id": "79841949",
   "metadata": {},
   "outputs": [],
   "source": [
    "import pandas as pd\n",
    "import numpy as np\n",
    "from scipy.interpolate import interp1d\n",
    "\n",
    "dat = pd.read_csv(\"nyc_data_cleaned.csv\")"
   ]
  },
  {
   "cell_type": "code",
   "execution_count": 13,
   "id": "1120ac82",
   "metadata": {},
   "outputs": [
    {
     "data": {
      "text/plain": [
       "array([ 554, 1673, 1321, 1133,   60,  480,  240,  894, 1490,  672,  180,\n",
       "       1140,  860,  180,  120,  240,  180,  480,  517,  120,  480,  300,\n",
       "        540,  180,  120,  300,  180,  180,  120,  300,  360,  900,  120,\n",
       "        120,  120,  240,  120,  300,  180,  360])"
      ]
     },
     "execution_count": 13,
     "metadata": {},
     "output_type": "execute_result"
    }
   ],
   "source": [
    "dat_sub = dat[(dat[\"pickup_zone\"] == 1) & (dat[\"dropoff_zone\"] == 1)]\n",
    "np.array(dat_sub[\"trip_time_in_secs\"])"
   ]
  },
  {
   "cell_type": "code",
   "execution_count": 18,
   "id": "803a38e1",
   "metadata": {},
   "outputs": [
    {
     "name": "stdout",
     "output_type": "stream",
     "text": [
      "[  60  120  120  120  120  120  120  120  120  180  180  180  180  180\n",
      "  180  180  240  240  240  300  300  300  300  360  360  480  480  480\n",
      "  517  540  554  672  860  894  900 1133 1140 1321 1490 1673]\n",
      "[0.025 0.05  0.075 0.1   0.125 0.15  0.175 0.2   0.225 0.25  0.275 0.3\n",
      " 0.325 0.35  0.375 0.4   0.425 0.45  0.475 0.5   0.525 0.55  0.575 0.6\n",
      " 0.625 0.65  0.675 0.7   0.725 0.75  0.775 0.8   0.825 0.85  0.875 0.9\n",
      " 0.925 0.95  0.975 1.   ]\n"
     ]
    },
    {
     "ename": "ValueError",
     "evalue": "A value in x_new is below the interpolation range.",
     "output_type": "error",
     "traceback": [
      "\u001b[0;31m---------------------------------------------------------------------------\u001b[0m",
      "\u001b[0;31mValueError\u001b[0m                                Traceback (most recent call last)",
      "\u001b[0;32m/var/folders/nn/xm3lck0d7fl1gn0bmggvr9dm0000gn/T/ipykernel_62412/3752492546.py\u001b[0m in \u001b[0;36m<module>\u001b[0;34m\u001b[0m\n\u001b[1;32m      8\u001b[0m \u001b[0;34m\u001b[0m\u001b[0m\n\u001b[1;32m      9\u001b[0m \u001b[0mu\u001b[0m \u001b[0;34m=\u001b[0m \u001b[0mnp\u001b[0m\u001b[0;34m.\u001b[0m\u001b[0mrandom\u001b[0m\u001b[0;34m.\u001b[0m\u001b[0muniform\u001b[0m\u001b[0;34m(\u001b[0m\u001b[0msize\u001b[0m\u001b[0;34m=\u001b[0m\u001b[0mlen\u001b[0m\u001b[0;34m(\u001b[0m\u001b[0mx\u001b[0m\u001b[0;34m)\u001b[0m\u001b[0;34m)\u001b[0m\u001b[0;34m\u001b[0m\u001b[0;34m\u001b[0m\u001b[0m\n\u001b[0;32m---> 10\u001b[0;31m \u001b[0msamples\u001b[0m \u001b[0;34m=\u001b[0m \u001b[0mecdf\u001b[0m\u001b[0;34m(\u001b[0m\u001b[0mu\u001b[0m\u001b[0;34m)\u001b[0m\u001b[0;34m\u001b[0m\u001b[0;34m\u001b[0m\u001b[0m\n\u001b[0m\u001b[1;32m     11\u001b[0m \u001b[0;34m\u001b[0m\u001b[0m\n\u001b[1;32m     12\u001b[0m \u001b[0msamples\u001b[0m\u001b[0;34m\u001b[0m\u001b[0;34m\u001b[0m\u001b[0m\n",
      "\u001b[0;32m~/opt/anaconda3/lib/python3.9/site-packages/scipy/interpolate/_polyint.py\u001b[0m in \u001b[0;36m__call__\u001b[0;34m(self, x)\u001b[0m\n\u001b[1;32m     76\u001b[0m         \"\"\"\n\u001b[1;32m     77\u001b[0m         \u001b[0mx\u001b[0m\u001b[0;34m,\u001b[0m \u001b[0mx_shape\u001b[0m \u001b[0;34m=\u001b[0m \u001b[0mself\u001b[0m\u001b[0;34m.\u001b[0m\u001b[0m_prepare_x\u001b[0m\u001b[0;34m(\u001b[0m\u001b[0mx\u001b[0m\u001b[0;34m)\u001b[0m\u001b[0;34m\u001b[0m\u001b[0;34m\u001b[0m\u001b[0m\n\u001b[0;32m---> 78\u001b[0;31m         \u001b[0my\u001b[0m \u001b[0;34m=\u001b[0m \u001b[0mself\u001b[0m\u001b[0;34m.\u001b[0m\u001b[0m_evaluate\u001b[0m\u001b[0;34m(\u001b[0m\u001b[0mx\u001b[0m\u001b[0;34m)\u001b[0m\u001b[0;34m\u001b[0m\u001b[0;34m\u001b[0m\u001b[0m\n\u001b[0m\u001b[1;32m     79\u001b[0m         \u001b[0;32mreturn\u001b[0m \u001b[0mself\u001b[0m\u001b[0;34m.\u001b[0m\u001b[0m_finish_y\u001b[0m\u001b[0;34m(\u001b[0m\u001b[0my\u001b[0m\u001b[0;34m,\u001b[0m \u001b[0mx_shape\u001b[0m\u001b[0;34m)\u001b[0m\u001b[0;34m\u001b[0m\u001b[0;34m\u001b[0m\u001b[0m\n\u001b[1;32m     80\u001b[0m \u001b[0;34m\u001b[0m\u001b[0m\n",
      "\u001b[0;32m~/opt/anaconda3/lib/python3.9/site-packages/scipy/interpolate/_interpolate.py\u001b[0m in \u001b[0;36m_evaluate\u001b[0;34m(self, x_new)\u001b[0m\n\u001b[1;32m    705\u001b[0m         \u001b[0my_new\u001b[0m \u001b[0;34m=\u001b[0m \u001b[0mself\u001b[0m\u001b[0;34m.\u001b[0m\u001b[0m_call\u001b[0m\u001b[0;34m(\u001b[0m\u001b[0mself\u001b[0m\u001b[0;34m,\u001b[0m \u001b[0mx_new\u001b[0m\u001b[0;34m)\u001b[0m\u001b[0;34m\u001b[0m\u001b[0;34m\u001b[0m\u001b[0m\n\u001b[1;32m    706\u001b[0m         \u001b[0;32mif\u001b[0m \u001b[0;32mnot\u001b[0m \u001b[0mself\u001b[0m\u001b[0;34m.\u001b[0m\u001b[0m_extrapolate\u001b[0m\u001b[0;34m:\u001b[0m\u001b[0;34m\u001b[0m\u001b[0;34m\u001b[0m\u001b[0m\n\u001b[0;32m--> 707\u001b[0;31m             \u001b[0mbelow_bounds\u001b[0m\u001b[0;34m,\u001b[0m \u001b[0mabove_bounds\u001b[0m \u001b[0;34m=\u001b[0m \u001b[0mself\u001b[0m\u001b[0;34m.\u001b[0m\u001b[0m_check_bounds\u001b[0m\u001b[0;34m(\u001b[0m\u001b[0mx_new\u001b[0m\u001b[0;34m)\u001b[0m\u001b[0;34m\u001b[0m\u001b[0;34m\u001b[0m\u001b[0m\n\u001b[0m\u001b[1;32m    708\u001b[0m             \u001b[0;32mif\u001b[0m \u001b[0mlen\u001b[0m\u001b[0;34m(\u001b[0m\u001b[0my_new\u001b[0m\u001b[0;34m)\u001b[0m \u001b[0;34m>\u001b[0m \u001b[0;36m0\u001b[0m\u001b[0;34m:\u001b[0m\u001b[0;34m\u001b[0m\u001b[0;34m\u001b[0m\u001b[0m\n\u001b[1;32m    709\u001b[0m                 \u001b[0;31m# Note fill_value must be broadcast up to the proper size\u001b[0m\u001b[0;34m\u001b[0m\u001b[0;34m\u001b[0m\u001b[0m\n",
      "\u001b[0;32m~/opt/anaconda3/lib/python3.9/site-packages/scipy/interpolate/_interpolate.py\u001b[0m in \u001b[0;36m_check_bounds\u001b[0;34m(self, x_new)\u001b[0m\n\u001b[1;32m    734\u001b[0m         \u001b[0;31m# !! Could provide more information about which values are out of bounds\u001b[0m\u001b[0;34m\u001b[0m\u001b[0;34m\u001b[0m\u001b[0m\n\u001b[1;32m    735\u001b[0m         \u001b[0;32mif\u001b[0m \u001b[0mself\u001b[0m\u001b[0;34m.\u001b[0m\u001b[0mbounds_error\u001b[0m \u001b[0;32mand\u001b[0m \u001b[0mbelow_bounds\u001b[0m\u001b[0;34m.\u001b[0m\u001b[0many\u001b[0m\u001b[0;34m(\u001b[0m\u001b[0;34m)\u001b[0m\u001b[0;34m:\u001b[0m\u001b[0;34m\u001b[0m\u001b[0;34m\u001b[0m\u001b[0m\n\u001b[0;32m--> 736\u001b[0;31m             raise ValueError(\"A value in x_new is below the interpolation \"\n\u001b[0m\u001b[1;32m    737\u001b[0m                              \"range.\")\n\u001b[1;32m    738\u001b[0m         \u001b[0;32mif\u001b[0m \u001b[0mself\u001b[0m\u001b[0;34m.\u001b[0m\u001b[0mbounds_error\u001b[0m \u001b[0;32mand\u001b[0m \u001b[0mabove_bounds\u001b[0m\u001b[0;34m.\u001b[0m\u001b[0many\u001b[0m\u001b[0;34m(\u001b[0m\u001b[0;34m)\u001b[0m\u001b[0;34m:\u001b[0m\u001b[0;34m\u001b[0m\u001b[0;34m\u001b[0m\u001b[0m\n",
      "\u001b[0;31mValueError\u001b[0m: A value in x_new is below the interpolation range."
     ]
    }
   ],
   "source": [
    "x = np.sort(dat_sub[\"trip_time_in_secs\"])\n",
    "print(x)\n",
    "\n",
    "y = np.arange(1, len(x) + 1) / len(x)\n",
    "print(y)\n",
    "\n",
    "ecdf = interp1d(x, y, kind='linear')\n",
    "\n",
    "u = np.random.uniform(size=len(x))\n",
    "samples = ecdf(u)\n",
    "\n",
    "samples"
   ]
  },
  {
   "cell_type": "code",
   "execution_count": 20,
   "id": "269906c0",
   "metadata": {},
   "outputs": [
    {
     "data": {
      "text/plain": [
       "array([60., 60., 60., 60., 60., 60., 60., 60., 60., 60., 60., 60., 60.,\n",
       "       60., 60., 60., 60., 60., 60., 60., 60., 60., 60., 60., 60., 60.,\n",
       "       60., 60., 60., 60., 60., 60., 60., 60., 60., 60., 60., 60., 60.,\n",
       "       60., 60., 60., 60., 60., 60., 60., 60., 60., 60., 60., 60., 60.,\n",
       "       60., 60., 60., 60., 60., 60., 60., 60., 60., 60., 60., 60., 60.,\n",
       "       60., 60., 60., 60., 60., 60., 60., 60., 60., 60., 60., 60., 60.,\n",
       "       60., 60., 60., 60., 60., 60., 60., 60., 60., 60., 60., 60., 60.,\n",
       "       60., 60., 60., 60., 60., 60., 60., 60., 60., 60., 60., 60., 60.,\n",
       "       60., 60., 60., 60., 60., 60., 60., 60., 60., 60., 60., 60., 60.,\n",
       "       60., 60., 60., 60., 60., 60., 60., 60., 60., 60., 60., 60., 60.,\n",
       "       60., 60., 60., 60., 60., 60., 60., 60., 60., 60., 60., 60., 60.,\n",
       "       60., 60., 60., 60., 60., 60., 60., 60., 60., 60., 60., 60., 60.,\n",
       "       60., 60., 60., 60., 60., 60., 60., 60., 60., 60., 60., 60., 60.,\n",
       "       60., 60., 60., 60., 60., 60., 60., 60., 60., 60., 60., 60., 60.,\n",
       "       60., 60., 60., 60., 60., 60., 60., 60., 60., 60., 60., 60., 60.,\n",
       "       60., 60., 60., 60., 60., 60., 60., 60., 60., 60., 60., 60., 60.,\n",
       "       60., 60., 60., 60., 60., 60., 60., 60., 60., 60., 60., 60., 60.,\n",
       "       60., 60., 60., 60., 60., 60., 60., 60., 60., 60., 60., 60., 60.,\n",
       "       60., 60., 60., 60., 60., 60., 60., 60., 60., 60., 60., 60., 60.,\n",
       "       60., 60., 60., 60., 60., 60., 60., 60., 60., 60., 60., 60., 60.,\n",
       "       60., 60., 60., 60., 60., 60., 60., 60., 60., 60., 60., 60., 60.,\n",
       "       60., 60., 60., 60., 60., 60., 60., 60., 60., 60., 60., 60., 60.,\n",
       "       60., 60., 60., 60., 60., 60., 60., 60., 60., 60., 60., 60., 60.,\n",
       "       60., 60., 60., 60., 60., 60., 60., 60., 60., 60., 60., 60., 60.,\n",
       "       60., 60., 60., 60., 60., 60., 60., 60., 60., 60., 60., 60., 60.,\n",
       "       60., 60., 60., 60., 60., 60., 60., 60., 60., 60., 60., 60., 60.,\n",
       "       60., 60., 60., 60., 60., 60., 60., 60., 60., 60., 60., 60., 60.,\n",
       "       60., 60., 60., 60., 60., 60., 60., 60., 60., 60., 60., 60., 60.,\n",
       "       60., 60., 60., 60., 60., 60., 60., 60., 60., 60., 60., 60., 60.,\n",
       "       60., 60., 60., 60., 60., 60., 60., 60., 60., 60., 60., 60., 60.,\n",
       "       60., 60., 60., 60., 60., 60., 60., 60., 60., 60., 60., 60., 60.,\n",
       "       60., 60., 60., 60., 60., 60., 60., 60., 60., 60., 60., 60., 60.,\n",
       "       60., 60., 60., 60., 60., 60., 60., 60., 60., 60., 60., 60., 60.,\n",
       "       60., 60., 60., 60., 60., 60., 60., 60., 60., 60., 60., 60., 60.,\n",
       "       60., 60., 60., 60., 60., 60., 60., 60., 60., 60., 60., 60., 60.,\n",
       "       60., 60., 60., 60., 60., 60., 60., 60., 60., 60., 60., 60., 60.,\n",
       "       60., 60., 60., 60., 60., 60., 60., 60., 60., 60., 60., 60., 60.,\n",
       "       60., 60., 60., 60., 60., 60., 60., 60., 60., 60., 60., 60., 60.,\n",
       "       60., 60., 60., 60., 60., 60.])"
      ]
     },
     "execution_count": 20,
     "metadata": {},
     "output_type": "execute_result"
    }
   ],
   "source": [
    "import numpy as np\n",
    "from scipy.stats import percentileofscore\n",
    "\n",
    "# Generate K samples from unknown distribution f(x)\n",
    "samples = np.array(dat_sub[\"trip_time_in_secs\"])\n",
    "\n",
    "# Sort the samples in increasing order\n",
    "sorted_samples = np.sort(samples)\n",
    "\n",
    "# Define ECDF function\n",
    "def ecdf(x):\n",
    "    return percentileofscore(sorted_samples, x) / 100.0\n",
    "\n",
    "# Generate M samples using empirical method\n",
    "M = 500\n",
    "random_numbers = np.random.uniform(size=M)\n",
    "empirical_samples = np.array([np.percentile(sorted_samples, ecdf(r)) for r in random_numbers])\n",
    "empirical_samples"
   ]
  }
 ],
 "metadata": {
  "kernelspec": {
   "display_name": "Python 3 (ipykernel)",
   "language": "python",
   "name": "python3"
  },
  "language_info": {
   "codemirror_mode": {
    "name": "ipython",
    "version": 3
   },
   "file_extension": ".py",
   "mimetype": "text/x-python",
   "name": "python",
   "nbconvert_exporter": "python",
   "pygments_lexer": "ipython3",
   "version": "3.9.13"
  }
 },
 "nbformat": 4,
 "nbformat_minor": 5
}
